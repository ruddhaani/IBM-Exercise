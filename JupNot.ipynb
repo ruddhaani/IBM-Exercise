{
 "cells": [
  {
   "cell_type": "markdown",
   "id": "faa15d87",
   "metadata": {},
   "source": [
    "# Jupyter Notebook"
   ]
  },
  {
   "cell_type": "markdown",
   "id": "d32fd20c",
   "metadata": {},
   "source": [
    "## Introduction\n",
    "\n",
    "This notebook introduces some of the basic concepts of data science, including data science languages, libraries, and tools. We will also look at some examples of arithmetic expressions.\n"
   ]
  },
  {
   "cell_type": "markdown",
   "id": "f79c5c3a",
   "metadata": {},
   "source": [
    "### Data Science Languages\n",
    "\n",
    "* Python\n",
    "* R\n",
    "* Julia\n",
    "* Scala\n",
    "* MATLAB\n",
    "* SQL\n"
   ]
  },
  {
   "cell_type": "markdown",
   "id": "b93d3b2b",
   "metadata": {},
   "source": [
    "### Data Science Libraries\n",
    "\n",
    "* NumPy\n",
    "* Pandas\n",
    "* SciPy\n",
    "* Matplotlib\n",
    "* Seaborn\n",
    "* Scikit-learn\n"
   ]
  },
  {
   "cell_type": "markdown",
   "id": "4bf10682",
   "metadata": {},
   "source": [
    "| Tool | Description |\n",
    "|---|---|\n",
    "| Jupyter Notebook | An interactive computational environment that enables you to combine code, text, and images in a single document. |\n",
    "| JupyterLab | A web-based interactive development environment for Jupyter notebooks. |\n",
    "| Google Colab | A free cloud-based Jupyter notebook environment. |\n",
    "| Kaggle Kernels | A cloud-based Jupyter notebook environment for data science competitions. |\n"
   ]
  },
  {
   "cell_type": "markdown",
   "id": "eb637801",
   "metadata": {},
   "source": [
    "## Arithmetic Expression Examples\n",
    "\n"
   ]
  },
  {
   "cell_type": "code",
   "execution_count": 1,
   "id": "e9f37151",
   "metadata": {},
   "outputs": [
    {
     "name": "stdout",
     "output_type": "stream",
     "text": [
      "8\n"
     ]
    }
   ],
   "source": [
    "def multiply_and_add(x, y):\n",
    "  \"\"\"Multiplys and adds two numbers.\"\"\"\n",
    "  product = x * y\n",
    "  sum = product + x\n",
    "  return sum\n",
    "\n",
    "result = multiply_and_add(2, 3)\n",
    "print(result)\n"
   ]
  },
  {
   "cell_type": "code",
   "execution_count": 2,
   "id": "e8139652",
   "metadata": {},
   "outputs": [
    {
     "name": "stdout",
     "output_type": "stream",
     "text": [
      "1.0\n"
     ]
    }
   ],
   "source": [
    "def convert_minutes_to_hours(minutes):\n",
    "  \"\"\"Converts minutes to hours.\"\"\"\n",
    "  hours = minutes / 60\n",
    "  return hours\n",
    "\n",
    "hours = convert_minutes_to_hours(60)\n",
    "print(hours)\n"
   ]
  },
  {
   "cell_type": "markdown",
   "id": "c1956b58",
   "metadata": {},
   "source": [
    "### Objectives\n",
    "\n",
    "* Learn about the basic concepts of data science.\n",
    "* Learn about some of the most popular data science languages and libraries.\n",
    "* Learn how to use Jupyter Notebooks for data science.\n",
    "* Write code to perform basic arithmetic operations.\n"
   ]
  },
  {
   "cell_type": "markdown",
   "id": "235c3d6a",
   "metadata": {},
   "source": [
    "## Author\n",
    "\n",
    "Aniruddha Ramane\n"
   ]
  }
 ],
 "metadata": {
  "kernelspec": {
   "display_name": "Python 3 (ipykernel)",
   "language": "python",
   "name": "python3"
  },
  "language_info": {
   "codemirror_mode": {
    "name": "ipython",
    "version": 3
   },
   "file_extension": ".py",
   "mimetype": "text/x-python",
   "name": "python",
   "nbconvert_exporter": "python",
   "pygments_lexer": "ipython3",
   "version": "3.10.2"
  }
 },
 "nbformat": 4,
 "nbformat_minor": 5
}
